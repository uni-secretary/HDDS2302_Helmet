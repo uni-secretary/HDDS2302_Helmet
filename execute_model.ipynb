{
 "cells": [
  {
   "cell_type": "code",
   "execution_count": 1,
   "metadata": {
    "ExecuteTime": {
     "end_time": "2025-04-21T16:40:33.470973Z",
     "start_time": "2025-04-21T16:40:32.959492Z"
    },
    "lines_to_next_cell": 2
   },
   "outputs": [
    {
     "name": "stderr",
     "output_type": "stream",
     "text": [
      "'pip' �����ڲ����ⲿ���Ҳ���ǿ����еĳ���\n",
      "���������ļ���\n"
     ]
    }
   ],
   "source": [
    "!pip install ultralytics # Run only when needed."
   ]
  },
  {
   "cell_type": "code",
   "execution_count": 2,
   "metadata": {
    "ExecuteTime": {
     "end_time": "2025-04-21T16:40:34.503513Z",
     "start_time": "2025-04-21T16:40:33.479676Z"
    }
   },
   "outputs": [],
   "source": [
    "import os\n",
    "import torch\n",
    "from ultralytics import YOLO\n",
    "from IPython.display import Image, display\n",
    "import matplotlib.pyplot as plt\n",
    "import cv2\n",
    "import numpy as np\n",
    "from pathlib import Path"
   ]
  },
  {
   "cell_type": "markdown",
   "metadata": {},
   "source": [
    "## Load Trained Model and Run Inference\n",
    "\n",
    "Load the best weights from the completed training run and prepare for inference.\n"
   ]
  },
  {
   "cell_type": "code",
   "execution_count": 3,
   "metadata": {
    "ExecuteTime": {
     "end_time": "2025-04-21T16:40:34.603179Z",
     "start_time": "2025-04-21T16:40:34.573Z"
    }
   },
   "outputs": [
    {
     "name": "stdout",
     "output_type": "stream",
     "text": [
      "Loading trained model from runs/detect/helmet_train18\\weights/best.pt\n",
      "Trained model loaded successfully.\n"
     ]
    }
   ],
   "source": [
    "# --- Load Trained Model ---\n",
    "\n",
    "model_trained = None # Initialize variable\n",
    "TRAINING_SUCCESS = True\n",
    "results_dir = \"runs/detect/helmet_train18\"\n",
    "\n",
    "# Only proceed if training seemed to complete and results were saved\n",
    "if TRAINING_SUCCESS and results_dir:\n",
    "    # Path to the trained model weights\n",
    "    TRAINED_MODEL_PATH = os.path.join(results_dir, 'weights/best.pt')\n",
    "\n",
    "    # Check if the trained model file exists\n",
    "    if not os.path.exists(TRAINED_MODEL_PATH):\n",
    "        print(f\"Error: Trained model not found at {TRAINED_MODEL_PATH}\")\n",
    "        print(\"Cannot proceed with inference.\")\n",
    "    else:\n",
    "        # Load the trained model\n",
    "        print(f\"Loading trained model from {TRAINED_MODEL_PATH}\")\n",
    "        try:\n",
    "            model_trained = YOLO(TRAINED_MODEL_PATH)\n",
    "            print(\"Trained model loaded successfully.\")\n",
    "        except Exception as e:\n",
    "            print(f\"An error occurred during trained model loading: {e}\")\n",
    "            model_trained = None # Ensure it's None if loading failed\n",
    "else:\n",
    "    print(\n",
    "        \"Skipping trained model loading because training did not complete successfully \"\n",
    "        \"or results directory is unknown.\"\n",
    "    )"
   ]
  },
  {
   "cell_type": "markdown",
   "metadata": {},
   "source": [
    "### Inference on an Image\n",
    "\n",
    "Use the loaded trained model to run prediction on a sample image.\n",
    "\n",
    "**Important:** You need to change the `IMAGE_TO_PREDICT` variable in the next cell to the path of an actual image file you want to test.\n"
   ]
  },
  {
   "cell_type": "code",
   "execution_count": 4,
   "metadata": {
    "ExecuteTime": {
     "end_time": "2025-04-21T16:40:34.620133Z",
     "start_time": "2025-04-21T16:40:34.616428Z"
    },
    "lines_to_next_cell": 2
   },
   "outputs": [
    {
     "name": "stdout",
     "output_type": "stream",
     "text": [
      "\n",
      "Warning: Test image not found at dataset/test/images/-5-_png_jpg.rf.edf2c1e85be2ab356d95de9f5dac5391.jpg\n",
      "Skipping image inference. Please edit the IMAGE_TO_PREDICT variable above with a valid path.\n"
     ]
    }
   ],
   "source": [
    "# --- Inference on an Image ---\n",
    "\n",
    "# <<< CHANGE THIS TO YOUR IMAGE PATH >>>\n",
    "IMAGE_TO_PREDICT = 'dataset/test/images/-5-_png_jpg.rf.edf2c1e85be2ab356d95de9f5dac5391.jpg'\n",
    "\n",
    "if model_trained: # Check if the trained model was loaded successfully\n",
    "    if not os.path.exists(IMAGE_TO_PREDICT):\n",
    "        print(f\"\\nWarning: Test image not found at {IMAGE_TO_PREDICT}\")\n",
    "        print(\"Skipping image inference. \"\n",
    "              \"Please edit the IMAGE_TO_PREDICT variable above with a valid path.\")\n",
    "    else:\n",
    "        print(f\"\\nRunning inference on: {IMAGE_TO_PREDICT}\")\n",
    "        try:\n",
    "            # Detect available device\n",
    "            if torch.backends.mps.is_available():\n",
    "                device = 'mps'\n",
    "                print(\"Using MPS (Apple Silicon) device\")\n",
    "            elif torch.cuda.is_available():\n",
    "                device = 'cuda'\n",
    "                print(\"Using CUDA device\")\n",
    "            else:\n",
    "                device = 'cpu'\n",
    "                print(\"Using CPU device\")\n",
    "\n",
    "\n",
    "            # Run inference\n",
    "            predict_results = model_trained.predict(\n",
    "                source=IMAGE_TO_PREDICT,\n",
    "                save=True,      # Save image with bounding boxes\n",
    "                conf=0.1,       # Optional: set confidence threshold\n",
    "                device=device,\n",
    "            )\n",
    "            # Results are saved in `runs/detect/predict*` directory relative to notebook\n",
    "            print(\"Prediction results saved.\")\n",
    "\n",
    "            # Optional: Display the saved prediction image\n",
    "            # Find the latest prediction directory\n",
    "            predict_save_dir = predict_results[0].save_dir\n",
    "            img_base_name = os.path.basename(IMAGE_TO_PREDICT)\n",
    "            predicted_image_path = os.path.join(predict_save_dir, img_base_name)\n",
    "\n",
    "            if os.path.exists(predicted_image_path):\n",
    "                print(\"\\nDisplaying Prediction Result:\")\n",
    "                display(Image(filename=predicted_image_path))\n",
    "            else:\n",
    "                 print(f\"Could not find saved prediction image at {predicted_image_path}\")\n",
    "\n",
    "            # Optional: Process results further if needed\n",
    "            # for r in predict_results:\n",
    "            #     print(\"Boxes detected:\")\n",
    "            #     print(r.boxes.data)\n",
    "        except Exception as e:\n",
    "            print(f\"An error occurred during inference: {e}\")\n",
    "elif TRAINING_SUCCESS:\n",
    "     print(\"Skipping inference because the trained model failed to load.\")\n",
    "else:\n",
    "    print(\"Skipping inference because training did not complete successfully.\")"
   ]
  },
  {
   "cell_type": "markdown",
   "metadata": {},
   "source": [
    "    Running inference on: dataset/test/images/-5-_png_jpg.rf.edf2c1e85be2ab356d95de9f5dac5391.jpg\n",
    "    Using MPS (Apple Silicon) device\n",
    "    \n",
    "    image 1/1 /Users/sam/HKBU_HDDS_YR2_HW/HDDS2302_Applied Deep Learning_Final/project-py/dataset/test/images/-5-_png_jpg.rf.edf2c1e85be2ab356d95de9f5dac5391.jpg: 640x640 2 helmets, 15.7ms\n",
    "    Speed: 7.5ms preprocess, 15.7ms inference, 47.9ms postprocess per image at shape (1, 3, 640, 640)\n",
    "    Results saved to [1mruns/detect/predict[0m\n",
    "    Prediction results saved.\n",
    "    \n",
    "    Displaying Prediction Result:\n",
    "\n",
    "\n",
    "\n",
    "    \n",
    "![jpeg](execute_model_files/execute_model_5_1.jpg)\n",
    "    \n"
   ]
  },
  {
   "cell_type": "code",
   "execution_count": 5,
   "metadata": {
    "ExecuteTime": {
     "end_time": "2025-04-21T16:40:34.718221Z",
     "start_time": "2025-04-21T16:40:34.637130Z"
    },
    "lines_to_next_cell": 0
   },
   "outputs": [
    {
     "name": "stdout",
     "output_type": "stream",
     "text": [
      "\n",
      "Evaluating model on test set...\n",
      "Ultralytics 8.3.112  Python-3.13.3 torch-2.8.0.dev20250420+cu128 CUDA:0 (NVIDIA GeForce RTX 5080, 16303MiB)\n",
      "YOLO11n summary (fused): 100 layers, 2,582,542 parameters, 0 gradients, 6.3 GFLOPs\n",
      "\u001b[34m\u001b[1mval: \u001b[0mFast image access  (ping: 0.00.0 ms, read: 797.4294.2 MB/s, size: 47.7 KB)\n"
     ]
    },
    {
     "name": "stderr",
     "output_type": "stream",
     "text": [
      "\u001b[34m\u001b[1mval: \u001b[0mScanning C:\\Users\\Administrator\\HDDS2302_Helmet\\hf_helmet_dataset\\labels\\test.cache... 2001 images, 27 backgrounds, 0 corrupt: 100%|██████████| 2001/2001 [00:00<?, ?it/s]\n",
      "                 Class     Images  Instances      Box(P          R      mAP50  mAP50-95): 100%|██████████| 126/126 [00:06<00:00, 19.56it/s]\n"
     ]
    },
    {
     "name": "stdout",
     "output_type": "stream",
     "text": [
      "                   all       2001       5518      0.911      0.903      0.944      0.611\n",
      "                helmet       1626       4480      0.918      0.898      0.944      0.563\n",
      "             no-helmet        413       1038      0.904      0.908      0.944       0.66\n",
      "Speed: 0.1ms preprocess, 0.7ms inference, 0.0ms loss, 0.5ms postprocess per image\n",
      "Results saved to \u001b[1mc:\\Users\\Administrator\\HDDS2302_Helmet\\runs\\detect\\val3\u001b[0m\n",
      "Model evaluation complete. mAP50-95: 0.6111792025001236\n"
     ]
    }
   ],
   "source": [
    "# Optional: Evaluate Model on Test Set\n",
    "if model_trained:\n",
    "    try:\n",
    "        print(\"\\nEvaluating model on test set...\")\n",
    "        metrics = model_trained.val(data=\"hf_helmet_dataset/data.yaml\", split='test')\n",
    "        print(f\"Model evaluation complete. mAP50-95: {metrics.box.map}\")\n",
    "    except Exception as e:\n",
    "        print(f\"An error occurred during evaluation: {e}\")"
   ]
  },
  {
   "cell_type": "markdown",
   "metadata": {},
   "source": []
  }
 ],
 "metadata": {
  "jupytext": {
   "cell_metadata_filter": "-all",
   "main_language": "python",
   "notebook_metadata_filter": "-all"
  },
  "kernelspec": {
   "display_name": ".venv",
   "language": "python",
   "name": "python3"
  },
  "language_info": {
   "codemirror_mode": {
    "name": "ipython",
    "version": 3
   },
   "file_extension": ".py",
   "mimetype": "text/x-python",
   "name": "python",
   "nbconvert_exporter": "python",
   "pygments_lexer": "ipython3",
   "version": "3.13.3"
  }
 },
 "nbformat": 4,
 "nbformat_minor": 5
}
