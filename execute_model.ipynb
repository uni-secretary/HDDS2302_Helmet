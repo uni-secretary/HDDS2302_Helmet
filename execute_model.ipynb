{
 "cells": [
  {
   "cell_type": "code",
   "metadata": {
    "lines_to_next_cell": 2,
    "ExecuteTime": {
     "end_time": "2025-04-21T16:40:33.470973Z",
     "start_time": "2025-04-21T16:40:32.959492Z"
    }
   },
   "source": [
    "!pip install ultralytics # Run only when needed."
   ],
   "outputs": [
    {
     "name": "stdout",
     "output_type": "stream",
     "text": [
      "Requirement already satisfied: ultralytics in ./.venv/lib/python3.11/site-packages (8.3.111)\r\n",
      "Requirement already satisfied: numpy<=2.1.1,>=1.23.0 in ./.venv/lib/python3.11/site-packages (from ultralytics) (2.1.1)\r\n",
      "Requirement already satisfied: matplotlib>=3.3.0 in ./.venv/lib/python3.11/site-packages (from ultralytics) (3.10.1)\r\n",
      "Requirement already satisfied: opencv-python>=4.6.0 in ./.venv/lib/python3.11/site-packages (from ultralytics) (4.11.0.86)\r\n",
      "Requirement already satisfied: pillow>=7.1.2 in ./.venv/lib/python3.11/site-packages (from ultralytics) (11.2.1)\r\n",
      "Requirement already satisfied: pyyaml>=5.3.1 in ./.venv/lib/python3.11/site-packages (from ultralytics) (6.0.2)\r\n",
      "Requirement already satisfied: requests>=2.23.0 in ./.venv/lib/python3.11/site-packages (from ultralytics) (2.32.3)\r\n",
      "Requirement already satisfied: scipy>=1.4.1 in ./.venv/lib/python3.11/site-packages (from ultralytics) (1.15.2)\r\n",
      "Requirement already satisfied: torch>=1.8.0 in ./.venv/lib/python3.11/site-packages (from ultralytics) (2.6.0)\r\n",
      "Requirement already satisfied: torchvision>=0.9.0 in ./.venv/lib/python3.11/site-packages (from ultralytics) (0.21.0)\r\n",
      "Requirement already satisfied: tqdm>=4.64.0 in ./.venv/lib/python3.11/site-packages (from ultralytics) (4.67.1)\r\n",
      "Requirement already satisfied: psutil in ./.venv/lib/python3.11/site-packages (from ultralytics) (7.0.0)\r\n",
      "Requirement already satisfied: py-cpuinfo in ./.venv/lib/python3.11/site-packages (from ultralytics) (9.0.0)\r\n",
      "Requirement already satisfied: pandas>=1.1.4 in ./.venv/lib/python3.11/site-packages (from ultralytics) (2.2.3)\r\n",
      "Requirement already satisfied: seaborn>=0.11.0 in ./.venv/lib/python3.11/site-packages (from ultralytics) (0.13.2)\r\n",
      "Requirement already satisfied: ultralytics-thop>=2.0.0 in ./.venv/lib/python3.11/site-packages (from ultralytics) (2.0.14)\r\n",
      "Requirement already satisfied: contourpy>=1.0.1 in ./.venv/lib/python3.11/site-packages (from matplotlib>=3.3.0->ultralytics) (1.3.2)\r\n",
      "Requirement already satisfied: cycler>=0.10 in ./.venv/lib/python3.11/site-packages (from matplotlib>=3.3.0->ultralytics) (0.12.1)\r\n",
      "Requirement already satisfied: fonttools>=4.22.0 in ./.venv/lib/python3.11/site-packages (from matplotlib>=3.3.0->ultralytics) (4.57.0)\r\n",
      "Requirement already satisfied: kiwisolver>=1.3.1 in ./.venv/lib/python3.11/site-packages (from matplotlib>=3.3.0->ultralytics) (1.4.8)\r\n",
      "Requirement already satisfied: packaging>=20.0 in ./.venv/lib/python3.11/site-packages (from matplotlib>=3.3.0->ultralytics) (25.0)\r\n",
      "Requirement already satisfied: pyparsing>=2.3.1 in ./.venv/lib/python3.11/site-packages (from matplotlib>=3.3.0->ultralytics) (3.2.3)\r\n",
      "Requirement already satisfied: python-dateutil>=2.7 in ./.venv/lib/python3.11/site-packages (from matplotlib>=3.3.0->ultralytics) (2.9.0.post0)\r\n",
      "Requirement already satisfied: pytz>=2020.1 in ./.venv/lib/python3.11/site-packages (from pandas>=1.1.4->ultralytics) (2025.2)\r\n",
      "Requirement already satisfied: tzdata>=2022.7 in ./.venv/lib/python3.11/site-packages (from pandas>=1.1.4->ultralytics) (2025.2)\r\n",
      "Requirement already satisfied: charset-normalizer<4,>=2 in ./.venv/lib/python3.11/site-packages (from requests>=2.23.0->ultralytics) (3.4.1)\r\n",
      "Requirement already satisfied: idna<4,>=2.5 in ./.venv/lib/python3.11/site-packages (from requests>=2.23.0->ultralytics) (3.10)\r\n",
      "Requirement already satisfied: urllib3<3,>=1.21.1 in ./.venv/lib/python3.11/site-packages (from requests>=2.23.0->ultralytics) (2.4.0)\r\n",
      "Requirement already satisfied: certifi>=2017.4.17 in ./.venv/lib/python3.11/site-packages (from requests>=2.23.0->ultralytics) (2025.1.31)\r\n",
      "Requirement already satisfied: filelock in ./.venv/lib/python3.11/site-packages (from torch>=1.8.0->ultralytics) (3.18.0)\r\n",
      "Requirement already satisfied: typing-extensions>=4.10.0 in ./.venv/lib/python3.11/site-packages (from torch>=1.8.0->ultralytics) (4.13.2)\r\n",
      "Requirement already satisfied: networkx in ./.venv/lib/python3.11/site-packages (from torch>=1.8.0->ultralytics) (3.4.2)\r\n",
      "Requirement already satisfied: jinja2 in ./.venv/lib/python3.11/site-packages (from torch>=1.8.0->ultralytics) (3.1.6)\r\n",
      "Requirement already satisfied: fsspec in ./.venv/lib/python3.11/site-packages (from torch>=1.8.0->ultralytics) (2024.12.0)\r\n",
      "Requirement already satisfied: sympy==1.13.1 in ./.venv/lib/python3.11/site-packages (from torch>=1.8.0->ultralytics) (1.13.1)\r\n",
      "Requirement already satisfied: mpmath<1.4,>=1.1.0 in ./.venv/lib/python3.11/site-packages (from sympy==1.13.1->torch>=1.8.0->ultralytics) (1.3.0)\r\n",
      "Requirement already satisfied: six>=1.5 in ./.venv/lib/python3.11/site-packages (from python-dateutil>=2.7->matplotlib>=3.3.0->ultralytics) (1.17.0)\r\n",
      "Requirement already satisfied: MarkupSafe>=2.0 in ./.venv/lib/python3.11/site-packages (from jinja2->torch>=1.8.0->ultralytics) (3.0.2)\r\n"
     ]
    }
   ],
   "execution_count": 1
  },
  {
   "cell_type": "code",
   "metadata": {
    "ExecuteTime": {
     "end_time": "2025-04-21T16:40:34.503513Z",
     "start_time": "2025-04-21T16:40:33.479676Z"
    }
   },
   "source": [
    "import os\n",
    "import torch\n",
    "from ultralytics import YOLO\n",
    "from IPython.display import Image, display\n",
    "import matplotlib.pyplot as plt\n",
    "import cv2\n",
    "import numpy as np\n",
    "from pathlib import Path"
   ],
   "outputs": [],
   "execution_count": 2
  },
  {
   "cell_type": "markdown",
   "metadata": {},
   "source": [
    "## Load Trained Model and Run Inference\n",
    "\n",
    "Load the best weights from the completed training run and prepare for inference.\n"
   ]
  },
  {
   "cell_type": "code",
   "metadata": {
    "ExecuteTime": {
     "end_time": "2025-04-21T16:40:34.603179Z",
     "start_time": "2025-04-21T16:40:34.573Z"
    }
   },
   "source": [
    "# --- Load Trained Model ---\n",
    "\n",
    "model_trained = None # Initialize variable\n",
    "TRAINING_SUCCESS = True\n",
    "results_dir = \"runs/detect/helmet_train5\"\n",
    "\n",
    "# Only proceed if training seemed to complete and results were saved\n",
    "if TRAINING_SUCCESS and results_dir:\n",
    "    # Path to the trained model weights\n",
    "    TRAINED_MODEL_PATH = os.path.join(results_dir, 'weights/best.pt')\n",
    "\n",
    "    # Check if the trained model file exists\n",
    "    if not os.path.exists(TRAINED_MODEL_PATH):\n",
    "        print(f\"Error: Trained model not found at {TRAINED_MODEL_PATH}\")\n",
    "        print(\"Cannot proceed with inference.\")\n",
    "    else:\n",
    "        # Load the trained model\n",
    "        print(f\"Loading trained model from {TRAINED_MODEL_PATH}\")\n",
    "        try:\n",
    "            model_trained = YOLO(TRAINED_MODEL_PATH)\n",
    "            print(\"Trained model loaded successfully.\")\n",
    "        except Exception as e:\n",
    "            print(f\"An error occurred during trained model loading: {e}\")\n",
    "            model_trained = None # Ensure it's None if loading failed\n",
    "else:\n",
    "    print(\n",
    "        \"Skipping trained model loading because training did not complete successfully \"\n",
    "        \"or results directory is unknown.\"\n",
    "    )"
   ],
   "outputs": [
    {
     "name": "stdout",
     "output_type": "stream",
     "text": [
      "Loading trained model from runs/detect/helmet_train5/weights/best.pt\n",
      "Trained model loaded successfully.\n"
     ]
    }
   ],
   "execution_count": 3
  },
  {
   "cell_type": "markdown",
   "metadata": {},
   "source": [
    "### Inference on an Image\n",
    "\n",
    "Use the loaded trained model to run prediction on a sample image.\n",
    "\n",
    "**Important:** You need to change the `IMAGE_TO_PREDICT` variable in the next cell to the path of an actual image file you want to test.\n"
   ]
  },
  {
   "cell_type": "code",
   "metadata": {
    "lines_to_next_cell": 2,
    "ExecuteTime": {
     "end_time": "2025-04-21T16:40:34.620133Z",
     "start_time": "2025-04-21T16:40:34.616428Z"
    }
   },
   "source": [
    "# --- Inference on an Image ---\n",
    "\n",
    "# <<< CHANGE THIS TO YOUR IMAGE PATH >>>\n",
    "IMAGE_TO_PREDICT = 'dataset/test/images/-5-_png_jpg.rf.edf2c1e85be2ab356d95de9f5dac5391.jpg'\n",
    "\n",
    "if model_trained: # Check if the trained model was loaded successfully\n",
    "    if not os.path.exists(IMAGE_TO_PREDICT):\n",
    "        print(f\"\\nWarning: Test image not found at {IMAGE_TO_PREDICT}\")\n",
    "        print(\"Skipping image inference. \"\n",
    "              \"Please edit the IMAGE_TO_PREDICT variable above with a valid path.\")\n",
    "    else:\n",
    "        print(f\"\\nRunning inference on: {IMAGE_TO_PREDICT}\")\n",
    "        try:\n",
    "            # Detect available device\n",
    "            if torch.backends.mps.is_available():\n",
    "                device = 'mps'\n",
    "                print(\"Using MPS (Apple Silicon) device\")\n",
    "            elif torch.cuda.is_available():\n",
    "                device = 'cuda'\n",
    "                print(\"Using CUDA device\")\n",
    "            else:\n",
    "                device = 'cpu'\n",
    "                print(\"Using CPU device\")\n",
    "\n",
    "\n",
    "            # Run inference\n",
    "            predict_results = model_trained.predict(\n",
    "                source=IMAGE_TO_PREDICT,\n",
    "                save=True,      # Save image with bounding boxes\n",
    "                conf=0.1,       # Optional: set confidence threshold\n",
    "                device=device,\n",
    "            )\n",
    "            # Results are saved in `runs/detect/predict*` directory relative to notebook\n",
    "            print(\"Prediction results saved.\")\n",
    "\n",
    "            # Optional: Display the saved prediction image\n",
    "            # Find the latest prediction directory\n",
    "            predict_save_dir = predict_results[0].save_dir\n",
    "            img_base_name = os.path.basename(IMAGE_TO_PREDICT)\n",
    "            predicted_image_path = os.path.join(predict_save_dir, img_base_name)\n",
    "\n",
    "            if os.path.exists(predicted_image_path):\n",
    "                print(\"\\nDisplaying Prediction Result:\")\n",
    "                display(Image(filename=predicted_image_path))\n",
    "            else:\n",
    "                 print(f\"Could not find saved prediction image at {predicted_image_path}\")\n",
    "\n",
    "            # Optional: Process results further if needed\n",
    "            # for r in predict_results:\n",
    "            #     print(\"Boxes detected:\")\n",
    "            #     print(r.boxes.data)\n",
    "        except Exception as e:\n",
    "            print(f\"An error occurred during inference: {e}\")\n",
    "elif TRAINING_SUCCESS:\n",
    "     print(\"Skipping inference because the trained model failed to load.\")\n",
    "else:\n",
    "    print(\"Skipping inference because training did not complete successfully.\")"
   ],
   "outputs": [
    {
     "name": "stdout",
     "output_type": "stream",
     "text": [
      "\n",
      "Warning: Test image not found at dataset/test/images/-5-_png_jpg.rf.edf2c1e85be2ab356d95de9f5dac5391.jpg\n",
      "Skipping image inference. Please edit the IMAGE_TO_PREDICT variable above with a valid path.\n"
     ]
    }
   ],
   "execution_count": 4
  },
  {
   "cell_type": "markdown",
   "metadata": {},
   "source": [
    "    Running inference on: dataset/test/images/-5-_png_jpg.rf.edf2c1e85be2ab356d95de9f5dac5391.jpg\n",
    "    Using MPS (Apple Silicon) device\n",
    "    \n",
    "    image 1/1 /Users/sam/HKBU_HDDS_YR2_HW/HDDS2302_Applied Deep Learning_Final/project-py/dataset/test/images/-5-_png_jpg.rf.edf2c1e85be2ab356d95de9f5dac5391.jpg: 640x640 2 helmets, 15.7ms\n",
    "    Speed: 7.5ms preprocess, 15.7ms inference, 47.9ms postprocess per image at shape (1, 3, 640, 640)\n",
    "    Results saved to [1mruns/detect/predict[0m\n",
    "    Prediction results saved.\n",
    "    \n",
    "    Displaying Prediction Result:\n",
    "\n",
    "\n",
    "\n",
    "    \n",
    "![jpeg](execute_model_files/execute_model_5_1.jpg)\n",
    "    \n"
   ]
  },
  {
   "cell_type": "code",
   "metadata": {
    "lines_to_next_cell": 0,
    "ExecuteTime": {
     "end_time": "2025-04-21T16:40:34.718221Z",
     "start_time": "2025-04-21T16:40:34.637130Z"
    }
   },
   "source": [
    "# Optional: Evaluate Model on Test Set\n",
    "if model_trained:\n",
    "    try:\n",
    "        print(\"\\nEvaluating model on test set...\")\n",
    "        metrics = model_trained.val(data=\"hf_helmet_dataset/data.yaml\", split='test')\n",
    "        print(f\"Model evaluation complete. mAP50-95: {metrics.box.map}\")\n",
    "    except Exception as e:\n",
    "        print(f\"An error occurred during evaluation: {e}\")"
   ],
   "outputs": [
    {
     "name": "stdout",
     "output_type": "stream",
     "text": [
      "\n",
      "Evaluating model on test set...\n",
      "Ultralytics 8.3.111 🚀 Python-3.11.10 torch-2.6.0 CPU (Apple M3 Max)\n",
      "YOLO11n summary (fused): 100 layers, 2,582,542 parameters, 0 gradients, 6.3 GFLOPs\n",
      "An error occurred during evaluation: 'hf_helmet_dataset/data.yaml' does not exist\n"
     ]
    }
   ],
   "execution_count": 5
  },
  {
   "cell_type": "markdown",
   "metadata": {},
   "source": []
  }
 ],
 "metadata": {
  "jupytext": {
   "cell_metadata_filter": "-all",
   "main_language": "python",
   "notebook_metadata_filter": "-all"
  }
 },
 "nbformat": 4,
 "nbformat_minor": 5
}
