{
 "cells": [
  {
   "cell_type": "code",
   "execution_count": null,
   "id": "100b3a2c7b5b19d6",
   "metadata": {
    "ExecuteTime": {
     "end_time": "2025-04-19T20:40:46.162720Z",
     "start_time": "2025-04-19T20:40:46.161291Z"
    }
   },
   "outputs": [],
   "source": []
  },
  {
   "cell_type": "code",
   "execution_count": null,
   "id": "1721cf12f6def941",
   "metadata": {},
   "outputs": [],
   "source": []
  }
 ],
 "metadata": {
  "language_info": {
   "name": "python"
  }
 },
 "nbformat": 4,
 "nbformat_minor": 5
}
